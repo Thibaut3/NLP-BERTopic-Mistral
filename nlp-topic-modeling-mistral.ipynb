{
 "cells": [
  {
   "cell_type": "code",
   "execution_count": null,
   "metadata": {
    "_cell_guid": "b1076dfc-b9ad-4769-8c92-a6c4dae69d19",
    "_uuid": "8f2839f25d086af736a60e9eeb907d3b93b6e0e5",
    "execution": {
     "iopub.execute_input": "2025-05-21T09:33:30.567842Z",
     "iopub.status.busy": "2025-05-21T09:33:30.567130Z",
     "iopub.status.idle": "2025-05-21T09:36:26.413351Z",
     "shell.execute_reply": "2025-05-21T09:36:26.412283Z",
     "shell.execute_reply.started": "2025-05-21T09:33:30.567818Z"
    },
    "scrolled": true,
    "trusted": true
   },
   "outputs": [],
   "source": [
    "!pip install bertopic datasets accelerate bitsandbytes xformers adjustText torchvision -q"
   ]
  },
  {
   "cell_type": "markdown",
   "metadata": {},
   "source": [
    "# Extraction"
   ]
  },
  {
   "cell_type": "code",
   "execution_count": null,
   "metadata": {
    "execution": {
     "iopub.execute_input": "2025-05-21T09:45:08.214313Z",
     "iopub.status.busy": "2025-05-21T09:45:08.214007Z",
     "iopub.status.idle": "2025-05-21T09:45:08.555645Z",
     "shell.execute_reply": "2025-05-21T09:45:08.554907Z",
     "shell.execute_reply.started": "2025-05-21T09:45:08.214288Z"
    },
    "trusted": true
   },
   "outputs": [],
   "source": [
    "import numpy as np\n",
    "import os\n",
    "import pandas as pd"
   ]
  },
  {
   "cell_type": "code",
   "execution_count": null,
   "metadata": {
    "execution": {
     "iopub.execute_input": "2025-05-21T09:45:09.014587Z",
     "iopub.status.busy": "2025-05-21T09:45:09.014111Z",
     "iopub.status.idle": "2025-05-21T09:45:09.420818Z",
     "shell.execute_reply": "2025-05-21T09:45:09.420137Z",
     "shell.execute_reply.started": "2025-05-21T09:45:09.014560Z"
    },
    "trusted": true
   },
   "outputs": [],
   "source": [
    "df = pd.read_csv('/kaggle/input/book-genre-prediction/data.csv')\n",
    "\n",
    "df.head()"
   ]
  },
  {
   "cell_type": "code",
   "execution_count": null,
   "metadata": {
    "execution": {
     "iopub.execute_input": "2025-05-21T09:44:13.660026Z",
     "iopub.status.busy": "2025-05-21T09:44:13.659654Z",
     "iopub.status.idle": "2025-05-21T09:44:13.669456Z",
     "shell.execute_reply": "2025-05-21T09:44:13.668466Z",
     "shell.execute_reply.started": "2025-05-21T09:44:13.660002Z"
    },
    "trusted": true
   },
   "outputs": [],
   "source": [
    "print(\"\\nNombre de valeurs nulles par colonne :\")\n",
    "print(df.isnull().sum())"
   ]
  },
  {
   "cell_type": "code",
   "execution_count": null,
   "metadata": {
    "execution": {
     "iopub.execute_input": "2025-05-21T09:45:32.136574Z",
     "iopub.status.busy": "2025-05-21T09:45:32.136247Z",
     "iopub.status.idle": "2025-05-21T09:45:32.160774Z",
     "shell.execute_reply": "2025-05-21T09:45:32.159802Z",
     "shell.execute_reply.started": "2025-05-21T09:45:32.136549Z"
    },
    "trusted": true
   },
   "outputs": [],
   "source": [
    "titles_base = df['title'].values\n",
    "abstracts  = 'Genre: ' + df['genre'].values + '\\n' + df['summary'].values\n",
    "\n",
    "len(titles_base),len(abstracts)"
   ]
  },
  {
   "cell_type": "markdown",
   "metadata": {},
   "source": [
    "# Pré-traitement"
   ]
  },
  {
   "cell_type": "code",
   "execution_count": null,
   "metadata": {
    "execution": {
     "iopub.execute_input": "2025-05-21T09:45:34.383609Z",
     "iopub.status.busy": "2025-05-21T09:45:34.383253Z",
     "iopub.status.idle": "2025-05-21T09:45:34.390688Z",
     "shell.execute_reply": "2025-05-21T09:45:34.389570Z",
     "shell.execute_reply.started": "2025-05-21T09:45:34.383582Z"
    },
    "trusted": true
   },
   "outputs": [],
   "source": [
    "titles = []\n",
    "for idx,title in enumerate(titles_base):\n",
    "    titles.append(f'{title}_{idx}')"
   ]
  },
  {
   "cell_type": "markdown",
   "metadata": {},
   "source": [
    "# Model"
   ]
  },
  {
   "cell_type": "code",
   "execution_count": null,
   "metadata": {
    "execution": {
     "iopub.execute_input": "2025-05-21T09:44:34.925714Z",
     "iopub.status.busy": "2025-05-21T09:44:34.925342Z",
     "iopub.status.idle": "2025-05-21T09:44:35.786066Z",
     "shell.execute_reply": "2025-05-21T09:44:35.785079Z",
     "shell.execute_reply.started": "2025-05-21T09:44:34.925688Z"
    },
    "trusted": true
   },
   "outputs": [],
   "source": [
    "from huggingface_hub import login\n",
    "\n",
    "huggingface_token = os.getenv('HUGGINGFACE_TOKEN')\n",
    "login(token=huggingface_token)"
   ]
  },
  {
   "cell_type": "code",
   "execution_count": null,
   "metadata": {
    "execution": {
     "iopub.execute_input": "2025-05-21T09:36:27.710965Z",
     "iopub.status.busy": "2025-05-21T09:36:27.710726Z",
     "iopub.status.idle": "2025-05-21T09:36:29.524016Z",
     "shell.execute_reply": "2025-05-21T09:36:29.523233Z",
     "shell.execute_reply.started": "2025-05-21T09:36:27.710944Z"
    },
    "trusted": true
   },
   "outputs": [],
   "source": [
    "from torch import cuda\n",
    "\n",
    "model_id = 'mistralai/Mistral-7B-Instruct-v0.3'\n",
    "device = f'cuda:{cuda.current_device()}' if cuda.is_available() else 'cpu'\n",
    "\n",
    "print(device)"
   ]
  },
  {
   "cell_type": "code",
   "execution_count": null,
   "metadata": {
    "execution": {
     "iopub.execute_input": "2025-05-21T09:36:29.527103Z",
     "iopub.status.busy": "2025-05-21T09:36:29.526537Z",
     "iopub.status.idle": "2025-05-21T09:36:29.710391Z",
     "shell.execute_reply": "2025-05-21T09:36:29.709696Z",
     "shell.execute_reply.started": "2025-05-21T09:36:29.527085Z"
    },
    "trusted": true
   },
   "outputs": [],
   "source": [
    "from torch import bfloat16\n",
    "import transformers\n",
    "\n",
    "bnb_config = transformers.BitsAndBytesConfig(\n",
    "    load_in_4bit=True,  # 4-bit quantization\n",
    "    bnb_4bit_quant_type='nf4',  # Normalized float 4\n",
    "    bnb_4bit_use_double_quant=True,  # Second quantization after the first\n",
    "    bnb_4bit_compute_dtype=bfloat16  # Computation type\n",
    ")"
   ]
  },
  {
   "cell_type": "code",
   "execution_count": null,
   "metadata": {
    "execution": {
     "iopub.execute_input": "2025-05-21T09:36:29.711425Z",
     "iopub.status.busy": "2025-05-21T09:36:29.711086Z",
     "iopub.status.idle": "2025-05-21T09:38:14.639334Z",
     "shell.execute_reply": "2025-05-21T09:38:14.638620Z",
     "shell.execute_reply.started": "2025-05-21T09:36:29.711407Z"
    },
    "scrolled": true,
    "trusted": true
   },
   "outputs": [],
   "source": [
    "# Tokenizer\n",
    "tokenizer = transformers.AutoTokenizer.from_pretrained(model_id)\n",
    "tokenizer.pad_token = tokenizer.eos_token\n",
    "\n",
    "# Model\n",
    "model = transformers.AutoModelForCausalLM.from_pretrained(\n",
    "    model_id,\n",
    "    trust_remote_code=True,\n",
    "    quantization_config=bnb_config,\n",
    "    device_map='auto',\n",
    ")\n",
    "model.eval()"
   ]
  },
  {
   "cell_type": "code",
   "execution_count": null,
   "metadata": {
    "execution": {
     "iopub.execute_input": "2025-05-21T09:38:14.640852Z",
     "iopub.status.busy": "2025-05-21T09:38:14.640154Z",
     "iopub.status.idle": "2025-05-21T09:38:14.925758Z",
     "shell.execute_reply": "2025-05-21T09:38:14.925159Z",
     "shell.execute_reply.started": "2025-05-21T09:38:14.640834Z"
    },
    "scrolled": true,
    "trusted": true
   },
   "outputs": [],
   "source": [
    "generator = transformers.pipeline(\n",
    "    model=model, tokenizer=tokenizer,\n",
    "    task='text-generation',\n",
    "    temperature=0.1,\n",
    "    max_new_tokens=500,\n",
    "    repetition_penalty=1.1\n",
    ")"
   ]
  },
  {
   "cell_type": "markdown",
   "metadata": {},
   "source": [
    "## Prompt"
   ]
  },
  {
   "cell_type": "code",
   "execution_count": null,
   "metadata": {
    "execution": {
     "iopub.execute_input": "2025-05-21T09:38:14.926652Z",
     "iopub.status.busy": "2025-05-21T09:38:14.926405Z",
     "iopub.status.idle": "2025-05-21T09:38:14.930094Z",
     "shell.execute_reply": "2025-05-21T09:38:14.929449Z",
     "shell.execute_reply.started": "2025-05-21T09:38:14.926635Z"
    },
    "trusted": true
   },
   "outputs": [],
   "source": [
    "system_prompt = \"\"\"\n",
    "<s>[INST] <<SYS>>\n",
    "You are a helpful, respectful and honest assistant for labeling topics.\n",
    "<</SYS>>\n",
    "\"\"\""
   ]
  },
  {
   "cell_type": "code",
   "execution_count": null,
   "metadata": {
    "execution": {
     "iopub.execute_input": "2025-05-21T09:38:14.931221Z",
     "iopub.status.busy": "2025-05-21T09:38:14.930980Z",
     "iopub.status.idle": "2025-05-21T09:38:14.945694Z",
     "shell.execute_reply": "2025-05-21T09:38:14.945075Z",
     "shell.execute_reply.started": "2025-05-21T09:38:14.931202Z"
    },
    "trusted": true
   },
   "outputs": [],
   "source": [
    "example_prompt = \"\"\"\n",
    "I have a topic that contains the following documents:\n",
    "\n",
    "Drowned Wednesday is the first Trustee among the Morrow Days who is on Arthur's side and wishes the Will to be fulfilled. She appears as a leviathan/whale and suffers from Gluttony. The book begins when Leaf is visiting Arthur and they are discussing the invitation that Drowned Wednesday sent him.\n",
    "Arthur journeys through the Border Sea, escapes pirates, meets anthropomorphic rats, and ultimately faces Feverfew in a deadly duel to rescue his friend Leaf and free the third part of the Will, which is in the form of a Carp trapped inside a worldlet in Wednesday's stomach.\n",
    "The topic is described by the following keywords: 'fantasy, house, keys, arthur, trustees, border sea, drowned wednesday, feverfew, will, pirates, magic, transformation, quests, gluttony, worldlet'.\n",
    "Based on the information about the topic above, please create a short label of this topic. Make sure you to only return the label and nothing more.\n",
    "[/INST] Fantasy Adventure: Arthur's Quest in the Border Sea to Free the Third Part of the Will\n",
    "\"\"\""
   ]
  },
  {
   "cell_type": "code",
   "execution_count": null,
   "metadata": {
    "execution": {
     "iopub.execute_input": "2025-05-21T09:38:14.946761Z",
     "iopub.status.busy": "2025-05-21T09:38:14.946501Z",
     "iopub.status.idle": "2025-05-21T09:38:14.961828Z",
     "shell.execute_reply": "2025-05-21T09:38:14.961173Z",
     "shell.execute_reply.started": "2025-05-21T09:38:14.946742Z"
    },
    "trusted": true
   },
   "outputs": [],
   "source": [
    "main_prompt = \"\"\"\n",
    "[INST]\n",
    "I have a topic that contains the following documents:\n",
    "[DOCUMENTS]\n",
    "\n",
    "The topic is described by the following keywords: '[KEYWORDS]'.\n",
    "\n",
    "Based on the information about the topic above, please create a short label of this topic. Make sure you to only return the label and nothing more.\n",
    "[/INST]\n",
    "\"\"\""
   ]
  },
  {
   "cell_type": "code",
   "execution_count": null,
   "metadata": {
    "execution": {
     "iopub.execute_input": "2025-05-21T09:38:14.962673Z",
     "iopub.status.busy": "2025-05-21T09:38:14.962408Z",
     "iopub.status.idle": "2025-05-21T09:38:14.976534Z",
     "shell.execute_reply": "2025-05-21T09:38:14.976028Z",
     "shell.execute_reply.started": "2025-05-21T09:38:14.962653Z"
    },
    "trusted": true
   },
   "outputs": [],
   "source": [
    "prompt = system_prompt + example_prompt + main_prompt"
   ]
  },
  {
   "cell_type": "markdown",
   "metadata": {},
   "source": [
    "# BERTopic"
   ]
  },
  {
   "cell_type": "code",
   "execution_count": null,
   "metadata": {
    "execution": {
     "iopub.execute_input": "2025-05-21T09:38:14.977501Z",
     "iopub.status.busy": "2025-05-21T09:38:14.977264Z",
     "iopub.status.idle": "2025-05-21T09:38:27.411062Z",
     "shell.execute_reply": "2025-05-21T09:38:27.410493Z",
     "shell.execute_reply.started": "2025-05-21T09:38:14.977482Z"
    },
    "scrolled": true,
    "trusted": true
   },
   "outputs": [],
   "source": [
    "from sentence_transformers import SentenceTransformer\n",
    "\n",
    "# Pre-calculate embeddings\n",
    "embedding_model = SentenceTransformer(\"sentence-transformers/all-MiniLM-L6-v2\")\n",
    "embeddings = embedding_model.encode(abstracts, show_progress_bar=True)"
   ]
  },
  {
   "cell_type": "code",
   "execution_count": null,
   "metadata": {
    "execution": {
     "iopub.execute_input": "2025-05-21T09:38:27.412617Z",
     "iopub.status.busy": "2025-05-21T09:38:27.411840Z",
     "iopub.status.idle": "2025-05-21T09:38:40.556195Z",
     "shell.execute_reply": "2025-05-21T09:38:40.555672Z",
     "shell.execute_reply.started": "2025-05-21T09:38:27.412567Z"
    },
    "scrolled": true,
    "trusted": true
   },
   "outputs": [],
   "source": [
    "from umap import UMAP\n",
    "from hdbscan import HDBSCAN\n",
    "\n",
    "umap_model = UMAP(n_neighbors=15, n_components=5, min_dist=0.0, metric='cosine', random_state=42)\n",
    "hdbscan_model = HDBSCAN(min_cluster_size=50, metric='euclidean', cluster_selection_method='eom', prediction_data=True)"
   ]
  },
  {
   "cell_type": "code",
   "execution_count": null,
   "metadata": {
    "execution": {
     "iopub.execute_input": "2025-05-21T09:38:40.557841Z",
     "iopub.status.busy": "2025-05-21T09:38:40.556959Z",
     "iopub.status.idle": "2025-05-21T09:38:53.531641Z",
     "shell.execute_reply": "2025-05-21T09:38:53.531034Z",
     "shell.execute_reply.started": "2025-05-21T09:38:40.557821Z"
    },
    "trusted": true
   },
   "outputs": [],
   "source": [
    "reduced_embeddings = UMAP(n_neighbors=15, n_components=2, min_dist=0.0, metric='cosine', random_state=42).fit_transform(embeddings)"
   ]
  },
  {
   "cell_type": "code",
   "execution_count": null,
   "metadata": {
    "execution": {
     "iopub.execute_input": "2025-05-21T09:38:53.532506Z",
     "iopub.status.busy": "2025-05-21T09:38:53.532315Z",
     "iopub.status.idle": "2025-05-21T09:38:58.968734Z",
     "shell.execute_reply": "2025-05-21T09:38:58.968099Z",
     "shell.execute_reply.started": "2025-05-21T09:38:53.532492Z"
    },
    "trusted": true
   },
   "outputs": [],
   "source": [
    "from bertopic.representation import KeyBERTInspired, MaximalMarginalRelevance, TextGeneration\n",
    "\n",
    "# KeyBERT\n",
    "keybert = KeyBERTInspired()\n",
    "\n",
    "# MMR\n",
    "mmr = MaximalMarginalRelevance(diversity=0.3)\n",
    "\n",
    "# Text generation with Llama 2\n",
    "mistral = TextGeneration(generator, prompt=prompt)\n",
    "\n",
    "# All representation models\n",
    "representation_model = {\n",
    "    \"KeyBERT\": keybert,\n",
    "    \"Mistral\": mistral,\n",
    "    \"MMR\": mmr,\n",
    "}"
   ]
  },
  {
   "cell_type": "markdown",
   "metadata": {},
   "source": [
    "## Training"
   ]
  },
  {
   "cell_type": "code",
   "execution_count": null,
   "metadata": {
    "execution": {
     "iopub.execute_input": "2025-05-21T09:38:58.970273Z",
     "iopub.status.busy": "2025-05-21T09:38:58.969452Z",
     "iopub.status.idle": "2025-05-21T09:39:39.213952Z",
     "shell.execute_reply": "2025-05-21T09:39:39.213180Z",
     "shell.execute_reply.started": "2025-05-21T09:38:58.970254Z"
    },
    "scrolled": true,
    "trusted": true
   },
   "outputs": [],
   "source": [
    "from bertopic import BERTopic\n",
    "\n",
    "topic_model = BERTopic(\n",
    "\n",
    "  # Sub-models\n",
    "  embedding_model=embedding_model,\n",
    "  umap_model=umap_model,\n",
    "  hdbscan_model=hdbscan_model,\n",
    "  representation_model=representation_model,\n",
    "\n",
    "  # Hyperparameters\n",
    "  top_n_words=10,\n",
    "  verbose=True\n",
    ")\n",
    "\n",
    "# Train model\n",
    "topics, probs = topic_model.fit_transform(abstracts, embeddings)"
   ]
  },
  {
   "cell_type": "code",
   "execution_count": null,
   "metadata": {
    "execution": {
     "iopub.execute_input": "2025-05-21T09:39:39.215035Z",
     "iopub.status.busy": "2025-05-21T09:39:39.214792Z",
     "iopub.status.idle": "2025-05-21T09:39:39.237477Z",
     "shell.execute_reply": "2025-05-21T09:39:39.236761Z",
     "shell.execute_reply.started": "2025-05-21T09:39:39.215014Z"
    },
    "scrolled": true,
    "trusted": true
   },
   "outputs": [],
   "source": [
    "# Show topics\n",
    "topic_model.get_topic_info()"
   ]
  },
  {
   "cell_type": "code",
   "execution_count": null,
   "metadata": {
    "execution": {
     "iopub.execute_input": "2025-05-21T09:39:39.238516Z",
     "iopub.status.busy": "2025-05-21T09:39:39.238283Z",
     "iopub.status.idle": "2025-05-21T09:39:39.252001Z",
     "shell.execute_reply": "2025-05-21T09:39:39.251304Z",
     "shell.execute_reply.started": "2025-05-21T09:39:39.238497Z"
    },
    "scrolled": true,
    "trusted": true
   },
   "outputs": [],
   "source": [
    "topic_model.get_topic(1, full=True)[\"KeyBERT\"]"
   ]
  },
  {
   "cell_type": "code",
   "execution_count": null,
   "metadata": {
    "execution": {
     "iopub.execute_input": "2025-05-21T09:39:39.253278Z",
     "iopub.status.busy": "2025-05-21T09:39:39.252828Z",
     "iopub.status.idle": "2025-05-21T09:39:39.266359Z",
     "shell.execute_reply": "2025-05-21T09:39:39.265691Z",
     "shell.execute_reply.started": "2025-05-21T09:39:39.253256Z"
    },
    "scrolled": true,
    "trusted": true
   },
   "outputs": [],
   "source": [
    "mistral_labels = [label[0][0].split(\"\\n\")[0] for label in topic_model.get_topics(full=True)[\"Mistral\"].values()]\n",
    "topic_model.set_topic_labels(mistral_labels)"
   ]
  },
  {
   "cell_type": "markdown",
   "metadata": {},
   "source": [
    "# Visualize"
   ]
  },
  {
   "cell_type": "code",
   "execution_count": null,
   "metadata": {
    "execution": {
     "iopub.execute_input": "2025-05-21T09:39:39.267401Z",
     "iopub.status.busy": "2025-05-21T09:39:39.267069Z",
     "iopub.status.idle": "2025-05-21T09:39:40.200254Z",
     "shell.execute_reply": "2025-05-21T09:39:40.199709Z",
     "shell.execute_reply.started": "2025-05-21T09:39:39.267371Z"
    },
    "trusted": true
   },
   "outputs": [],
   "source": [
    "visualization = topic_model.visualize_documents(titles, reduced_embeddings=reduced_embeddings, hide_annotations=True, hide_document_hover=False, custom_labels=True)"
   ]
  },
  {
   "cell_type": "code",
   "execution_count": null,
   "metadata": {
    "execution": {
     "iopub.execute_input": "2025-05-21T09:39:40.201213Z",
     "iopub.status.busy": "2025-05-21T09:39:40.201007Z",
     "iopub.status.idle": "2025-05-21T09:39:40.275474Z",
     "shell.execute_reply": "2025-05-21T09:39:40.274731Z",
     "shell.execute_reply.started": "2025-05-21T09:39:40.201197Z"
    },
    "trusted": true
   },
   "outputs": [],
   "source": [
    "visualization.write_html(\"topic_visualization.html\")"
   ]
  },
  {
   "cell_type": "code",
   "execution_count": null,
   "metadata": {
    "execution": {
     "iopub.execute_input": "2025-05-21T09:39:40.276503Z",
     "iopub.status.busy": "2025-05-21T09:39:40.276289Z",
     "iopub.status.idle": "2025-05-21T09:39:40.352313Z",
     "shell.execute_reply": "2025-05-21T09:39:40.351387Z",
     "shell.execute_reply.started": "2025-05-21T09:39:40.276487Z"
    },
    "trusted": true
   },
   "outputs": [],
   "source": [
    "from IPython.core.display import display, HTML\n",
    "\n",
    "with open(\"/kaggle/working/topic_visualization.html\", \"r\", encoding=\"utf-8\") as f:\n",
    "    html_content = f.read()\n",
    "\n",
    "display(HTML(html_content))"
   ]
  }
 ],
 "metadata": {
  "kaggle": {
   "accelerator": "gpu",
   "dataSources": [
    {
     "datasetId": 2482107,
     "sourceId": 4210349,
     "sourceType": "datasetVersion"
    }
   ],
   "dockerImageVersionId": 31041,
   "isGpuEnabled": true,
   "isInternetEnabled": true,
   "language": "python",
   "sourceType": "notebook"
  },
  "kernelspec": {
   "display_name": "Python 3",
   "language": "python",
   "name": "python3"
  },
  "language_info": {
   "codemirror_mode": {
    "name": "ipython",
    "version": 3
   },
   "file_extension": ".py",
   "mimetype": "text/x-python",
   "name": "python",
   "nbconvert_exporter": "python",
   "pygments_lexer": "ipython3",
   "version": "3.11.11"
  }
 },
 "nbformat": 4,
 "nbformat_minor": 4
}
